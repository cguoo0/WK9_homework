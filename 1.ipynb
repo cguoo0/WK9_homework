{
 "cells": [
  {
   "cell_type": "code",
   "execution_count": 9,
   "metadata": {},
   "outputs": [
    {
     "data": {
      "text/plain": [
       "100"
      ]
     },
     "execution_count": 9,
     "metadata": {},
     "output_type": "execute_result"
    }
   ],
   "source": [
    "# y = x**2\n",
    "\n",
    "tech509 = 100\n",
    "def g(x):\n",
    "    return x**2\n",
    "\n",
    "def f(x,y):\n",
    "    x = g(x)\n",
    "    return x**y\n",
    "f(1,3)\n",
    "tech509\n"
   ]
  },
  {
   "cell_type": "code",
   "execution_count": 7,
   "metadata": {},
   "outputs": [],
   "source": [
    "with open('game_log.csv', 'a') as f:\n",
    "    f.write(f\"'Chenxi',1,2,True\")\n"
   ]
  },
  {
   "cell_type": "code",
   "execution_count": 8,
   "metadata": {},
   "outputs": [],
   "source": [
    "f = open('game_log.csv', 'r')"
   ]
  },
  {
   "cell_type": "code",
   "execution_count": 14,
   "metadata": {},
   "outputs": [],
   "source": [
    "class School:\n",
    "    def __init__(self,teacher_num,student_num,is_university=True):\n",
    "        self.t_n = teacher_num\n",
    "        self.s_n = student_num\n",
    "        \n",
    "    def f(self, num):\n",
    "        return num * self.t_n * self.s_n\n",
    "    \n",
    "\n",
    "UW = School(10,100,False)"
   ]
  }
 ],
 "metadata": {
  "kernelspec": {
   "display_name": "base",
   "language": "python",
   "name": "python3"
  },
  "language_info": {
   "codemirror_mode": {
    "name": "ipython",
    "version": 3
   },
   "file_extension": ".py",
   "mimetype": "text/x-python",
   "name": "python",
   "nbconvert_exporter": "python",
   "pygments_lexer": "ipython3",
   "version": "3.8.5"
  }
 },
 "nbformat": 4,
 "nbformat_minor": 2
}
